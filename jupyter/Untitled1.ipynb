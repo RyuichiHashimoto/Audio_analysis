{
 "cells": [
  {
   "cell_type": "code",
   "execution_count": 1,
   "id": "872ca4d0",
   "metadata": {},
   "outputs": [],
   "source": [
    "N =3\n",
    "L = 34\n",
    "K=1\n",
    "A_list = [8,13,26]"
   ]
  },
  {
   "cell_type": "code",
   "execution_count": null,
   "id": "c1d00b85",
   "metadata": {},
   "outputs": [],
   "source": []
  }
 ],
 "metadata": {
  "kernelspec": {
   "display_name": "Python 3 (ipykernel)",
   "language": "python",
   "name": "python3"
  },
  "language_info": {
   "codemirror_mode": {
    "name": "ipython",
    "version": 3
   },
   "file_extension": ".py",
   "mimetype": "text/x-python",
   "name": "python",
   "nbconvert_exporter": "python",
   "pygments_lexer": "ipython3",
   "version": "3.7.10"
  }
 },
 "nbformat": 4,
 "nbformat_minor": 5
}
